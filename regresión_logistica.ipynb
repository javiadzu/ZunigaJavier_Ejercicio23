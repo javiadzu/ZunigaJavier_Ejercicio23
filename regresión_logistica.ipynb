{
  "nbformat": 4,
  "nbformat_minor": 0,
  "metadata": {
    "colab": {
      "name": "regresión_logistica.ipynb",
      "provenance": []
    },
    "kernelspec": {
      "name": "python3",
      "display_name": "Python 3"
    }
  },
  "cells": [
    {
      "cell_type": "code",
      "metadata": {
        "id": "5JP9QuLDwXmJ",
        "colab_type": "code",
        "colab": {}
      },
      "source": [
        "import pandas as pd\n",
        "from sklearn.preprocessing import StandardScaler\n",
        "from sklearn.model_selection import train_test_split\n",
        "from sklearn.linear_model import LogisticRegression\n",
        "from sklearn import preprocessing\n",
        "from sklearn.metrics import f1_score\n",
        "import numpy as np\n",
        "import matplotlib.pyplot as plt\n"
      ],
      "execution_count": 0,
      "outputs": []
    },
    {
      "cell_type": "markdown",
      "metadata": {
        "id": "KAF6wUW-xC0r",
        "colab_type": "text"
      },
      "source": [
        "Importamos y limpiamos los datos del repositorio 'https://archive.ics.uci.edu/ml/machine-learning-databases/communities"
      ]
    },
    {
      "cell_type": "code",
      "metadata": {
        "id": "ug9xxRW9wZgi",
        "colab_type": "code",
        "colab": {}
      },
      "source": [
        "#Leemos los datos directamente de la página\n",
        "df = pd.read_csv('https://archive.ics.uci.edu/ml/machine-learning-databases/communities/communities.data')\n",
        "#Vamos a tomar solamente 2000 filas. \n",
        "x = df.iloc[:,4:]\n",
        "\n",
        "#Vamos a limpiar los datos que no nos sirven\n",
        "#Primero reemplazamos los valores '?' por datos vacíos\n",
        "x=x.replace('?',pd.NaT)\n",
        "#Ahora eliminamos todas las columnas que tengan datos vacíos\n",
        "X= x.dropna(axis=1)\n",
        "\n",
        "#Seleccionamos cuál es nuestra X y nuestra Y\n",
        "Y=X.iloc[:,-1]\n",
        "X= X.iloc[:,0:-1]\n"
      ],
      "execution_count": 0,
      "outputs": []
    },
    {
      "cell_type": "code",
      "metadata": {
        "id": "3oVG54xX0l8o",
        "colab_type": "code",
        "colab": {}
      },
      "source": [
        "# Partimos los datos, la mitad para entrenamiento y la otra para test\n",
        "\n",
        "\n",
        "scaler = StandardScaler()\n",
        "x_train, x_test, y_train, y_test = train_test_split(X, Y, train_size=0.5)\n",
        "\n",
        "\n",
        "#Existen muchas clases en el Y, por tanto debemos normalizarlos.\n",
        "lab_enc = preprocessing.LabelEncoder()\n",
        "y_train = lab_enc.fit_transform(y_train)\n",
        "y_test = lab_enc.fit_transform(y_test)\n",
        "\n",
        "#Estandarizamos los datos reescalando a 1 cada columna\n",
        "x_train = scaler.fit_transform(x_train)\n",
        "x_test = scaler.transform(x_test)"
      ],
      "execution_count": 0,
      "outputs": []
    },
    {
      "cell_type": "markdown",
      "metadata": {
        "id": "OhwTh07oxVRo",
        "colab_type": "text"
      },
      "source": [
        "Utilizamos la regresión logística variando el valor de C"
      ]
    },
    {
      "cell_type": "code",
      "metadata": {
        "id": "LzSZFc3-wkzJ",
        "colab_type": "code",
        "colab": {}
      },
      "source": [
        "#Utilizamos la regresión logísticas\n",
        "#Realizamos un for que varie C logaritmicamente, para l1 y l2\n",
        "\n",
        "variac=15\n",
        "f1l1 =np.zeros(variac)\n",
        "f1l2 =np.zeros(variac)\n",
        "xgraf= np.zeros(variac)\n",
        "for i in range (variac):\n",
        "    clf1= LogisticRegression(\n",
        "    C=10**(-5+i), penalty='l1', solver='saga', tol=0.1\n",
        ")\n",
        "    clf2 =LogisticRegression(\n",
        "    C=10**(-5+i), penalty='l2', solver='saga', tol=0.1\n",
        ") \n",
        "    xgraf[i]=10**(-5+i)\n",
        "    clf1.fit(x_train, y_train)\n",
        "    clf2.fit(x_train, y_train)\n",
        "    #Predecimos los números necesitados\n",
        "    y_pred1=clf1.predict(x_test)\n",
        "    y_pred2=clf2.predict(x_test)\n",
        "    f1l1[i]=np.mean(f1_score(y_test, y_pred1, average=None))\n",
        "    f1l2[i]=np.mean(f1_score(y_test, y_pred2, average=None))\n"
      ],
      "execution_count": 0,
      "outputs": []
    },
    {
      "cell_type": "markdown",
      "metadata": {
        "id": "JPCvx_rZxawO",
        "colab_type": "text"
      },
      "source": [
        "Graficamos"
      ]
    },
    {
      "cell_type": "code",
      "metadata": {
        "id": "x2u0iNxhwnhQ",
        "colab_type": "code",
        "colab": {
          "base_uri": "https://localhost:8080/",
          "height": 316
        },
        "outputId": "45a664dc-cad7-4838-c70f-fc4a0596ca72"
      },
      "source": [
        "fig, ax = plt.subplots()\n",
        "ax.semilogx(xgraf, f1l1, 'o-',label='L1')\n",
        "ax.semilogx(xgraf, f1l2,'o-', label='L2')\n",
        "ax.set_xlabel('C')\n",
        "ax.set_ylabel('F1 score')\n",
        "ax.legend(fontsize=10)\n",
        "ax.set_title('F1 score Vs. C ')\n",
        "print('Realmente es bajo el F1 score porque se tienen una clase continua de Ys, precisamente  ese fue el motivo de  la utilización del label encoder.')\n",
        "plt.show()"
      ],
      "execution_count": 5,
      "outputs": [
        {
          "output_type": "stream",
          "text": [
            "Realmente es bajo el F1 score porque se tienen una clase continua de Ys, precisamente  ese fue el motivo de  la utilización del label encoder.\n"
          ],
          "name": "stdout"
        },
        {
          "output_type": "display_data",
          "data": {
            "image/png": "[encoded data removed]",
            "text/plain": [
              "<Figure size 432x288 with 1 Axes>"
            ]
          },
          "metadata": {
            "tags": [],
            "needs_background": "light"
          }
        }
      ]
    },
    {
      "cell_type": "code",
      "metadata": {
        "id": "d85FO71DwrXY",
        "colab_type": "code",
        "colab": {}
      },
      "source": [
        ""
      ],
      "execution_count": 0,
      "outputs": []
    }
  ]
}